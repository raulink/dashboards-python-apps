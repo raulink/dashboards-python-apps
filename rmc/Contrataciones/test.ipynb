{
 "cells": [
  {
   "cell_type": "code",
   "execution_count": null,
   "metadata": {},
   "outputs": [],
   "source": [
    "# renderizar "
   ]
  },
  {
   "cell_type": "code",
   "execution_count": null,
   "metadata": {},
   "outputs": [],
   "source": []
  },
  {
   "cell_type": "code",
   "execution_count": 3,
   "metadata": {},
   "outputs": [
    {
     "name": "stdout",
     "output_type": "stream",
     "text": [
      "Doscientos cincuenta y dos mil trescientos cincuenta y dos 56/100\n"
     ]
    }
   ],
   "source": [
    "from num2words import num2words\n",
    "\n",
    "def numero_a_texto(numero):\n",
    "    # Separar la parte entera de la parte decimal\n",
    "    parte_entera, parte_decimal = str(numero).split(',')\n",
    "    \n",
    "    # Convertir la parte entera a texto\n",
    "    texto_parte_entera = num2words(int(parte_entera.replace('.', '')), lang='es')\n",
    "    \n",
    "    # Convertir la parte decimal a texto\n",
    "    texto_parte_decimal = f\"{int(parte_decimal):02d}/100\"\n",
    "    \n",
    "    # Formatear el resultado\n",
    "    resultado = f\"{texto_parte_entera} {texto_parte_decimal}\"\n",
    "    \n",
    "    # Capitalizar la primera letra\n",
    "    resultado = resultado.capitalize()\n",
    "    \n",
    "    return resultado\n",
    "\n",
    "# Ejemplo de uso\n",
    "numero = \"252352,56\"\n",
    "texto = numero_a_texto(numero)\n",
    "print(texto)\n"
   ]
  },
  {
   "cell_type": "markdown",
   "metadata": {},
   "source": [
    "<table>\n",
    "    <thead>\n",
    "        <th> No </th>\n",
    "        <th> Partida </th>\n",
    "        <th> ID </th>\n",
    "        <th> DESCRIPCION  </th>\n",
    "        <th> UNIDAD  </th>\n",
    "        <th> CANTIDAD  </th>\n",
    "        <th> P.U.  </th>\n",
    "        <th> TOTAL BS  </th>\n",
    "    </thead>\n",
    "    <tbody>\n",
    "        <tr>\n",
    "            <td>   1 </td>\n",
    "            <td>   39700 </td>\n",
    "            <td>    LOOP 21: 11084 </td>\n",
    "            <td>   CONECTOR ESTANDAR </td>\n",
    "            <td>   Pza </td>\n",
    "            <td>   42</td>\n",
    "            <td>   157.92</td>\n",
    "            <td>   6632.64</td>\n",
    "        </tr>\n",
    "    </tbody>\n",
    "\n",
    "</table>"
   ]
  }
 ],
 "metadata": {
  "kernelspec": {
   "display_name": "base",
   "language": "python",
   "name": "python3"
  },
  "language_info": {
   "codemirror_mode": {
    "name": "ipython",
    "version": 3
   },
   "file_extension": ".py",
   "mimetype": "text/x-python",
   "name": "python",
   "nbconvert_exporter": "python",
   "pygments_lexer": "ipython3",
   "version": "3.11.7"
  }
 },
 "nbformat": 4,
 "nbformat_minor": 2
}

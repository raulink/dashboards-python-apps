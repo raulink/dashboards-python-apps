{
 "cells": [
  {
   "cell_type": "code",
   "execution_count": 2,
   "metadata": {},
   "outputs": [
    {
     "name": "stdout",
     "output_type": "stream",
     "text": [
      "Un millón ciento veintitrés mil ciento veinticinco 52/100\n"
     ]
    }
   ],
   "source": [
    "from num2words import num2words\n",
    "\n",
    "def numero_a_texto(numero):\n",
    "    # Separar la parte entera de la parte decimal\n",
    "    parte_entera, parte_decimal = str(numero).split(',')\n",
    "    \n",
    "    # Convertir la parte entera a texto\n",
    "    texto_parte_entera = num2words(int(parte_entera.replace('.', '')), lang='es')\n",
    "    \n",
    "    # Convertir la parte decimal a texto\n",
    "    texto_parte_decimal = f\"{int(parte_decimal):02d}/100\"\n",
    "    \n",
    "    # Formatear el resultado\n",
    "    resultado = f\"{texto_parte_entera} {texto_parte_decimal}\"\n",
    "    \n",
    "    # Capitalizar la primera letra\n",
    "    resultado = resultado.capitalize()\n",
    "    \n",
    "    return resultado\n",
    "\n",
    "# Ejemplo de uso\n",
    "numero = \"252352,56\"\n",
    "texto = numero_a_texto(numero)\n",
    "print(texto)\n"
   ]
  }
 ],
 "metadata": {
  "kernelspec": {
   "display_name": "base",
   "language": "python",
   "name": "python3"
  },
  "language_info": {
   "codemirror_mode": {
    "name": "ipython",
    "version": 3
   },
   "file_extension": ".py",
   "mimetype": "text/x-python",
   "name": "python",
   "nbconvert_exporter": "python",
   "pygments_lexer": "ipython3",
   "version": "3.11.7"
  }
 },
 "nbformat": 4,
 "nbformat_minor": 2
}
